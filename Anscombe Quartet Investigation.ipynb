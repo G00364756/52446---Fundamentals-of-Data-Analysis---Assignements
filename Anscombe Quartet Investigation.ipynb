{
 "cells": [
  {
   "cell_type": "markdown",
   "metadata": {},
   "source": [
    "# Anscombe Quartet Investigation - AOC G00364756\n",
    "\n",
    "## Date created: 17/10/2018\n",
    "\n",
    "\n",
    "## Introduction\n",
    "This is a practical assignment tasked to students of the Data Analytics Higher Diploma as delivered by Dr. Ian McGloughlin and provided by GMIT. \n",
    "The objective of this assignment is to investigate the \"Anscombe Quartet\" dataset using Jupyter Notebooks and Python. This will be done through use of a Jupyter Notebook with the aim of describing the dataset and giving an insight into its importance through analysis with the Python software.\n",
    "A clear history of the work conducted in this assignment will be available on the Github repository \"XXXX\" submitted to the \"Fundamentals of Data Analysis\" GMIT moodle page.\n",
    "All works drawn upon to aid in the creation of this submission will be referenced within the \"References\" section of this Jupyter Notebook (please see table of contents).\n",
    "The due date for this assignment is the 11/11/2018.\n",
    "\n",
    "## Contents\n",
    "1. Problem statement\n",
    "2. Background of Anscombe Quartet Dataset\n",
    "3. Interesting aspects of the Anscombe Quartet Dataset\n",
    "4. Calculation of the descriptive statistics of the variables in the Anscombe Quartet Dataset\n",
    "5. Explaination of why Anscombe's Quartet Dataset is interesting\n",
    "6. References\n"
   ]
  },
  {
   "cell_type": "markdown",
   "metadata": {},
   "source": [
    "### 1. Problem Statement\n",
    "\n",
    "The following problem statement is part of the Fundamentals of Data Analysis pdf document \"Assignment 2018\" that was given to students to explain the objectives of the assignment...\n",
    "\n",
    "The following assignment concerns the well-known Anscombe’s quartet dataset. You\n",
    "are required to create a Jupyter [5] notebook analysing the dataset. There are four\n",
    "distinct tasks to be carried out in your Jupyter notebook.\n",
    "\n",
    "1. Explain the background to the dataset – who created it, when it was created, and any speculation you can find regarding how it might have been created.\n",
    "2. Plot the interesting aspects of the dataset.\n",
    "3. Calculate the descriptive statistics of the variables in the dataset.\n",
    "4. Explain why the dataset is interesting, referring to the plots and statistics above."
   ]
  },
  {
   "cell_type": "markdown",
   "metadata": {
    "collapsed": true
   },
   "source": [
    "### 2. Background of Anscombe Quartet Dataset\n",
    "\n",
    "Frank Anscombe was an English statician, born in 1918 and died in 2001. He made numerous contributions to the field of statistics. One such contribution is the creation of the \"Anscombe quartet dataset\". Through use of this dataset he was able to demonstrate the dangers of summary statistics and the importance of visualising data. The dataset consists of 4 datasets...\n",
    "\n",
    "[1] See References: Frank Anscombe Wikipedia page\n",
    "[2] See References: Dipiction of the importance of Anscombe's Quartet"
   ]
  },
  {
   "cell_type": "code",
   "execution_count": null,
   "metadata": {
    "collapsed": true
   },
   "outputs": [],
   "source": [
    "from IPython.display import Image\n",
    "from IPython.core.display import HTML \n",
    "Image(url= \"http://my_site.com/my_picture.jpg\")\n",
    "\n",
    "PATH = \"/Users/reblochonMasque/Documents/Drawings/\"\n",
    "Image(filename = PATH + \"My_picture.jpg\", width=100, height=100)"
   ]
  },
  {
   "cell_type": "markdown",
   "metadata": {},
   "source": [
    "[2] See References: How to display images in jupyter notebook\n",
    "\n",
    "...The characteristics of each dataset when using summary statictics would lead the statician to believe that all datasets appear to be similar however when graphed "
   ]
  },
  {
   "cell_type": "markdown",
   "metadata": {
    "collapsed": true
   },
   "source": [
    "### 3. Interesting aspects of the Anscombe Quartet Dataset\n"
   ]
  },
  {
   "cell_type": "code",
   "execution_count": null,
   "metadata": {
    "collapsed": true
   },
   "outputs": [],
   "source": []
  },
  {
   "cell_type": "code",
   "execution_count": null,
   "metadata": {
    "collapsed": true
   },
   "outputs": [],
   "source": []
  },
  {
   "cell_type": "code",
   "execution_count": null,
   "metadata": {
    "collapsed": true
   },
   "outputs": [],
   "source": []
  },
  {
   "cell_type": "code",
   "execution_count": 10,
   "metadata": {},
   "outputs": [
    {
     "name": "stdout",
     "output_type": "stream",
     "text": [
      "12\n",
      "8190\n",
      "8400\n"
     ]
    }
   ],
   "source": [
    "z = 2340\n",
    "n = 450\n",
    "y = 700\n",
    "i = 1\n",
    "\n",
    "x = ((n*2) + z)\n",
    "     \n",
    "while y < x:\n",
    "        x = (x + 450)\n",
    "        y = (y + 700)\n",
    "        i = i + 1\n",
    "print (i)\n",
    "print (x)\n",
    "print (y)"
   ]
  },
  {
   "cell_type": "markdown",
   "metadata": {},
   "source": [
    "Some links to the description of Anscombe's Quartet\n",
    "\n",
    "https://heapanalytics.com/blog/data-stories/anscombes-quartet-and-why-summary-statistics-dont-tell-the-whole-story\n"
   ]
  },
  {
   "cell_type": "markdown",
   "metadata": {},
   "source": [
    "### 7. References\n",
    "\n",
    "[1] https://en.wikipedia.org/wiki/Frank_Anscombe\n",
    "[2] https://heapanalytics.com/blog/data-stories/anscombes-quartet-and-why-summary-statistics-dont-tell-the-whole-story\n",
    "[3] https://stackoverflow.com/questions/32370281/how-to-include-image-or-picture-in-jupyter-notebook"
   ]
  }
 ],
 "metadata": {
  "kernelspec": {
   "display_name": "Python 3",
   "language": "python",
   "name": "python3"
  },
  "language_info": {
   "codemirror_mode": {
    "name": "ipython",
    "version": 3
   },
   "file_extension": ".py",
   "mimetype": "text/x-python",
   "name": "python",
   "nbconvert_exporter": "python",
   "pygments_lexer": "ipython3",
   "version": "3.6.3"
  }
 },
 "nbformat": 4,
 "nbformat_minor": 2
}
