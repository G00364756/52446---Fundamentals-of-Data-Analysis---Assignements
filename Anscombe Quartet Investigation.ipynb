{
 "cells": [
  {
   "cell_type": "markdown",
   "metadata": {},
   "source": [
    "# Anscombe Quartet Investigation - AOC G00364756\n",
    "\n",
    "## Date created: 17/10/2018\n",
    "\n",
    "\n",
    "## Introduction\n",
    "This is a practical assignment tasked to students of the Data Analytics Higher Diploma as delivered by Dr. Ian McGloughlin and provided by GMIT. \n",
    "The objective of this assignment is to investigate the \"Anscombe Quartet\" dataset using Jupyter Notebooks and Python. This will be done through use of a Jupyter Notebook with the aim of describing the dataset and giving an insight into its importance through analysis with the Python software.\n",
    "A clear history of the work conducted in this assignment will be available on the Github repository \"XXXX\" submitted to the \"Fundamentals of Data Analysis\" GMIT moodle page.\n",
    "All works drawn upon to aid in the creation of this submission will be referenced within the \"References\" section of this Jupyter Notebook (please see table of contents).\n",
    "The due date for this assignment is the 11/11/2018.\n",
    "\n",
    "## Contents\n",
    "1. Problem statement\n",
    "2. Background of Anscombe Quartet Dataset\n",
    "3. Interesting aspects of the Anscombe Quartet Dataset\n",
    "4. Calculation of the descriptive statistics of the variables in the Anscombe Quartet Dataset\n",
    "5. Explaination of why Anscombe's Quartet Dataset is interesting\n",
    "6. References\n"
   ]
  },
  {
   "cell_type": "markdown",
   "metadata": {},
   "source": [
    "### 1. Problem Statement\n",
    "\n",
    "The following problem statement is part of the Fundamentals of Data Analysis pdf document \"Assignment 2018\" that was given to students to explain the objectives of the assignment...\n",
    "\n",
    "The following assignment concerns the well-known Anscombe’s quartet dataset. You\n",
    "are required to create a Jupyter [5] notebook analysing the dataset. There are four\n",
    "distinct tasks to be carried out in your Jupyter notebook.\n",
    "\n",
    "1. Explain the background to the dataset – who created it, when it was created, and any speculation you can find regarding how it might have been created.\n",
    "2. Plot the interesting aspects of the dataset.\n",
    "3. Calculate the descriptive statistics of the variables in the dataset.\n",
    "4. Explain why the dataset is interesting, referring to the plots and statistics above."
   ]
  },
  {
   "cell_type": "markdown",
   "metadata": {
    "collapsed": true
   },
   "source": [
    "### 2. Background of Anscombe Quartet Dataset\n",
    "\n",
    "Frank Anscombe was an English statician, born in 1918 and died in 2001. He made numerous contributions to the field of statistics. One such contribution is the creation of the \"Anscombe quartet dataset\". Through use of this dataset he was able to demonstrate the dangers of summary statistics and the importance of visualising data. The dataset consists of 4 datasets...\n",
    "\n",
    "[1] See References: Frank Anscombe Wikipedia page\n",
    "\n",
    "[2] See References: Dipiction of the importance of Anscombe's Quartet"
   ]
  },
  {
   "cell_type": "code",
   "execution_count": null,
   "metadata": {},
   "outputs": [],
   "source": [
    "from IPython.display import Image \n",
    "Image(filename=\"/Users/aoconnor/Desktop/Programming/Semester 2 (2018_19)/52446---Fundamentals-of-Data-Analysis---Assignments/Anscombe_Quartet.JPG\", width=400, height=400)\n",
    "\n"
   ]
  },
  {
   "cell_type": "markdown",
   "metadata": {},
   "source": [
    "[3] See References: How to display images in jupyter notebook\n",
    "[4] See References: JPG image of Anscombe's Quartet Dataset\n",
    "\n",
    "...A comparison of the summary statictics of each dataset would lead one to believe that all datasets are almost identical. However when the datasets are graphed they give a completely different picture..."
   ]
  },
  {
   "cell_type": "code",
   "execution_count": 1,
   "metadata": {},
   "outputs": [
    {
     "data": {
      "text/html": [
       "<script>\n",
       "code_show=true; \n",
       "function code_toggle() {\n",
       "    if (code_show){\n",
       "        $('div.cell.code_cell.rendered.selected div.input').hide();\n",
       "    } else {\n",
       "        $('div.cell.code_cell.rendered.selected div.input').show();\n",
       "    }\n",
       "    code_show = !code_show\n",
       "} \n",
       "$( document ).ready(code_toggle);\n",
       "</script>\n",
       "To show/hide this cell's raw code input, click <a href=\"javascript:code_toggle()\">here</a>."
      ],
      "text/plain": [
       "<IPython.core.display.HTML object>"
      ]
     },
     "metadata": {},
     "output_type": "display_data"
    },
    {
     "name": "stdout",
     "output_type": "stream",
     "text": [
      "['10.0', '8.0', '13.0', '9.0', '11.0', '14.0', '6.0', '4.0', '12.0', '7.0', '5.0']\n",
      "['7.46', '6.77', '12.74', '7.11', '7.81', '8.84', '6.08', '5.39', '8.15', '6.42', '5.73']\n"
     ]
    }
   ],
   "source": [
    "from IPython.display import HTML # imports the HTML package for IPython\n",
    "from IPython.display import display # imports the display package for IPython\n",
    "\n",
    "# Taken from https://stackoverflow.com/questions/31517194/how-to-hide-one-specific-cell-input-or-output-in-ipython-notebook\n",
    "tag = HTML('''<script> \n",
    "code_show=true; \n",
    "function code_toggle() {\n",
    "    if (code_show){\n",
    "        $('div.cell.code_cell.rendered.selected div.input').hide();\n",
    "    } else {\n",
    "        $('div.cell.code_cell.rendered.selected div.input').show();\n",
    "    }\n",
    "    code_show = !code_show\n",
    "} \n",
    "$( document ).ready(code_toggle);\n",
    "</script>\n",
    "To show/hide this cell's raw code input, click <a href=\"javascript:code_toggle()\">here</a>.''')\n",
    "display(tag) # Displays the link and associated text, if the link is clicked the javascript function code_toggle runs and either hides or shows the contents of the jupyter notebook cell.\n",
    "\n",
    "def splitDatasetI(j): \n",
    "    \"\"\"Splits Anscombe's Quartet into an list into an array soley consisting of the I Dataset e.g.[1, I, 10.0, 8.4/n]]\"\"\"\n",
    "    Split = [] # list created for \"Split\"\n",
    "    DatasetI = [] # list created for \"DatasetI\"\n",
    "    with open(\"/Users/aoconnor/Desktop/Programming/Semester 2 (2018_19)/52446---Fundamentals-of-Data-Analysis---Assignments/Anscombe_Quartet_Dataset.csv\") as AQD: # opens the csv file \"Anscombe_Quartet.csv\" and names the file \"AQD\"\n",
    "        for line in AQD:  # for all the lines in \"AQD\" do the following...\n",
    "            Split.append(line.split(\",\")) # Recognises the comma (,) as the delimiter and makes each new line a list in \"Split\", Split becomes an array (i.e. a list of lists)\n",
    "        for j in range(len(Split)): # j will be each 'line'(as above) in Split, code will go through each line for the length of the Split array.\n",
    "            for i in Split[j]: # for i in the Dataset list indexed x do the following...\n",
    "                if i == \"I\": # if i is equal to the string then do the following...\n",
    "                    DatasetI.append(Split[j]) # append the setosa array with the list indexed x in \"Dataset\"\n",
    "                else: # otherwise...\n",
    "                    continue # keep going with the code\n",
    "    return(DatasetI) # return the list Setosa\n",
    "\n",
    "def RomNumI(x):\n",
    "    \"\"\"Returns the maximum value for an attribute that belongs to the Versicolor class\"\"\"\n",
    "    # Change the value of x to change the attribute the user wishes to find the maximum of i.e. 0 is for sepal length, 1 is for sepal width\n",
    "    DatasetRoman = [] # list named \"Minnie\" created\n",
    "    if x > 3: # if statement - do the following if x is greater than 3\n",
    "        text =(\"No dice! Last column in this dataset is a string!\\n Please pick a value for x between 0 and 3.\\n 0 = Versicolor sepal length\\n 1 = Versicolor sepal width\\n 2 = Versicolor petal length\\n 3 = Versicolor petal width\") # tell the user that the only options are 0 to 3 if a number greater than 3 is selected\n",
    "        return(text) # return the text\n",
    "    elif x>=0 or x<=3: # if the user selection is within the range 0 to 3 do the following...\n",
    "        for m in range(len(splitDatasetI(1))):  # for the length of the Setosa list do the following...\n",
    "            DatasetRoman.append(splitDatasetI(1)[m][x]) # append the list Minnie with the values in the user specified column\n",
    "    return(DatasetRoman)  # return the maximum value\n",
    "    \n",
    "def splitDatasetII(j):\n",
    "    \"\"\"Splits the original iris dataset into a list containing only Iris Setosa class with all the attributes i.e. Setosa = [[5.1,3.5,1.4,0.2,Iris-Setosa]...[5.0,3.3,1.4,0.2,Iris-Setosa]]\"\"\"\n",
    "    Split = [] # list created for \"Dataset\"\n",
    "    DatasetII = [] # list created for \"Setosa\"\n",
    "    with open(\"/Users/aoconnor/Desktop/Programming/Semester 2 (2018_19)/52446---Fundamentals-of-Data-Analysis---Assignments/Anscombe_Quartet_Dataset.csv\") as AQD: # opens the data file \"iris.csv\" and names the file \"f\"\n",
    "        for line in AQD:  # for all the lines in \"f\" do the following...\n",
    "            Split.append(line.split(\",\")) # split up the values in each line for the data set by recognising the comma (,) as the delimiter and add the values to the list named \"Dataset\"\n",
    "        for j in range(len(Split)): # finds the number of values in the list \"Dataset\", uses the number of values as the range and iterates through the range by 1 every time. Acts as a counter. For each iteration do...\n",
    "            for i in Split[j]: # for i in the Dataset list indexed x do the following...\n",
    "                if i == \"II\": # if i is equal to the string then do the following...\n",
    "                    DatasetII.append(Split[j]) # append the setosa array with the list indexed x in \"Dataset\"\n",
    "                else: # otherwise...\n",
    "                    continue # keep going with the code\n",
    "    return(DatasetII) # return the list Setosa\n",
    "\n",
    "def RomNumII(x):\n",
    "    \"\"\"Returns the maximum value for an attribute that belongs to the Versicolor class\"\"\"\n",
    "    # Change the value of x to change the attribute the user wishes to find the maximum of i.e. 0 is for sepal length, 1 is for sepal width\n",
    "    DatasetRoman = [] # list named \"Minnie\" created\n",
    "    if x > 3: # if statement - do the following if x is greater than 3\n",
    "        text =(\"No dice! Last column in this dataset is a string!\\n Please pick a value for x between 0 and 3.\\n 0 = Versicolor sepal length\\n 1 = Versicolor sepal width\\n 2 = Versicolor petal length\\n 3 = Versicolor petal width\") # tell the user that the only options are 0 to 3 if a number greater than 3 is selected\n",
    "        return(text) # return the text\n",
    "    elif x>=0 or x<=3: # if the user selection is within the range 0 to 3 do the following...\n",
    "        for m in range(len(splitDatasetII(1))):  # for the length of the Setosa list do the following...\n",
    "            DatasetRoman.append(splitDatasetII(1)[m][x]) # append the list Minnie with the values in the user specified column\n",
    "    return(DatasetRoman)  # return the maximum value\n",
    "        \n",
    "def splitDatasetIII(j):\n",
    "    \"\"\"Splits the original iris dataset into a list containing only Iris Setosa class with all the attributes i.e. Setosa = [[5.1,3.5,1.4,0.2,Iris-Setosa]...[5.0,3.3,1.4,0.2,Iris-Setosa]]\"\"\"\n",
    "    Split = [] # list created for \"Dataset\"\n",
    "    DatasetIII = [] # list created for \"Setosa\"\n",
    "    with open(\"/Users/aoconnor/Desktop/Programming/Semester 2 (2018_19)/52446---Fundamentals-of-Data-Analysis---Assignments/Anscombe_Quartet_Dataset.csv\") as AQD: # opens the data file \"iris.csv\" and names the file \"f\"\n",
    "        for line in AQD:  # for all the lines in \"f\" do the following...\n",
    "            Split.append(line.split(\",\")) # split up the values in each line for the data set by recognising the comma (,) as the delimiter and add the values to the list named \"Dataset\"\n",
    "        for j in range(len(Split)): # finds the number of values in the list \"Dataset\", uses the number of values as the range and iterates through the range by 1 every time. Acts as a counter. For each iteration do...\n",
    "            for i in Split[j]: # for i in the Dataset list indexed x do the following...\n",
    "                if i == \"III\": # if i is equal to the string then do the following...\n",
    "                    DatasetIII.append(Split[j]) # append the setosa array with the list indexed x in \"Dataset\"\n",
    "                else: # otherwise...\n",
    "                    continue # keep going with the code\n",
    "    return(DatasetIII) # return the list Setosa\n",
    "\n",
    "def RomNumIII(x):\n",
    "    \"\"\"Returns the maximum value for an attribute that belongs to the Versicolor class\"\"\"\n",
    "    # Change the value of x to change the attribute the user wishes to find the maximum of i.e. 0 is for sepal length, 1 is for sepal width\n",
    "    DatasetRoman = [] # list named \"Minnie\" created\n",
    "    if x > 3: # if statement - do the following if x is greater than 3\n",
    "        text =(\"No dice! Last column in this dataset is a string!\\n Please pick a value for x between 0 and 3.\\n 0 = Versicolor sepal length\\n 1 = Versicolor sepal width\\n 2 = Versicolor petal length\\n 3 = Versicolor petal width\") # tell the user that the only options are 0 to 3 if a number greater than 3 is selected\n",
    "        return(text) # return the text\n",
    "    elif x>=0 or x<=3: # if the user selection is within the range 0 to 3 do the following...\n",
    "        for m in range(len(splitDatasetIII(1))):  # for the length of the Setosa list do the following...\n",
    "            DatasetRoman.append(splitDatasetIII(1)[m][x]) # append the list Minnie with the values in the user specified column\n",
    "    return(DatasetRoman)  # return the maximum value\n",
    "\n",
    "    \n",
    "def splitDatasetIV(j):\n",
    "    \"\"\"Splits the original iris dataset into a list containing only Iris Setosa class with all the attributes i.e. Setosa = [[5.1,3.5,1.4,0.2,Iris-Setosa]...[5.0,3.3,1.4,0.2,Iris-Setosa]]\"\"\"\n",
    "    Split = [] # list created for \"Dataset\"\n",
    "    DatasetIV = [] # list created for \"Setosa\"\n",
    "    with open(\"/Users/aoconnor/Desktop/Programming/Semester 2 (2018_19)/52446---Fundamentals-of-Data-Analysis---Assignments/Anscombe_Quartet_Dataset.csv\") as AQD: # opens the data file \"iris.csv\" and names the file \"f\"\n",
    "        for line in AQD:  # for all the lines in \"f\" do the following...\n",
    "            Split.append(line.split(\",\")) # split up the values in each line for the data set by recognising the comma (,) as the delimiter and add the values to the list named \"Dataset\"\n",
    "        for j in range(len(Split)): # finds the number of values in the list \"Dataset\", uses the number of values as the range and iterates through the range by 1 every time. Acts as a counter. For each iteration do...\n",
    "            for i in Split[j]: # for i in the Dataset list indexed x do the following...\n",
    "                if i == \"IV\": # if i is equal to the string then do the following...\n",
    "                    DatasetIV.append(Split[j]) # append the setosa array with the list indexed x in \"Dataset\"\n",
    "                else: # otherwise...\n",
    "                    continue # keep going with the code\n",
    "    return(DatasetIV) # return the list Setosa\n",
    "\n",
    "def RomNumIV(x):\n",
    "    \"\"\"Returns the maximum value for an attribute that belongs to the Versicolor class\"\"\"\n",
    "    # Change the value of x to change the attribute the user wishes to find the maximum of i.e. 0 is for sepal length, 1 is for sepal width\n",
    "    DatasetRoman = [] # list named \"Minnie\" created\n",
    "    if x > 3: # if statement - do the following if x is greater than 3\n",
    "        text =(\"No dice! Last column in this dataset is a string!\\n Please pick a value for x between 0 and 3.\\n 0 = Versicolor sepal length\\n 1 = Versicolor sepal width\\n 2 = Versicolor petal length\\n 3 = Versicolor petal width\") # tell the user that the only options are 0 to 3 if a number greater than 3 is selected\n",
    "        return(text) # return the text\n",
    "    elif x>=0 or x<=3: # if the user selection is within the range 0 to 3 do the following...\n",
    "        for m in range(len(splitDatasetIV(1))):  # for the length of the Setosa list do the following...\n",
    "            DatasetRoman.append(splitDatasetIV(1)[m][x]) # append the list Minnie with the values in the user specified column\n",
    "        return(DatasetRoman)  # return the maximum value\n",
    "        \n",
    "XdatasetI = [s.replace('\"\\n', '') for s in RomNumI(2)]\n",
    "YdatasetI = [s.replace('\"\\n', '') for s in RomNumI(3)]\n",
    "XdatasetII = [s.replace('\"\\n', '') for s in RomNumII(2)]\n",
    "YdatasetII = [s.replace('\"\\n', '') for s in RomNumII(3)]\n",
    "XdatasetIII = [s.replace('\"\\n', '') for s in RomNumIII(2)]\n",
    "YdatasetIII = [s.replace('\"\\n', '') for s in RomNumIII(3)]\n",
    "XdatasetIV = [s.replace('\"\\n', '') for s in RomNumIV(2)]\n",
    "YdatasetIV = [s.replace('\"\\n', '') for s in RomNumIV(3)]\n"
   ]
  },
  {
   "cell_type": "markdown",
   "metadata": {},
   "source": [
    "[5] See References: How to hide Jupyter cells\n",
    "[6] See References: How to remove unwanted characters from a string"
   ]
  },
  {
   "cell_type": "code",
   "execution_count": 65,
   "metadata": {},
   "outputs": [
    {
     "data": {
      "image/png": "[encoded data removed]",
      "text/plain": [
       "<matplotlib.figure.Figure at 0x1ed35f40048>"
      ]
     },
     "metadata": {},
     "output_type": "display_data"
    }
   ],
   "source": [
    "x1 = np.array((XdatasetI)).astype(np.float) # changes all arguments of the array to type float adapted from https://stackoverflow.com/questions/28393103/typeerror-cannot-perform-reduce-with-flexible-type\n",
    "y1 = np.array(((YdatasetI))).astype(np.float)\n",
    "x2 = np.array((XdatasetII)).astype(np.float)\n",
    "y2 = np.array((YdatasetII)).astype(np.float)\n",
    "x3 = np.array((XdatasetIII)).astype(np.float)\n",
    "y3 = np.array((YdatasetIII)).astype(np.float)\n",
    "x4 = np.array((XdatasetIV)).astype(np.float)\n",
    "y4 = np.array((YdatasetIV)).astype(np.float)\n",
    "\n",
    "%matplotlib inline \n",
    "# magic cell code to fix possible bugs with using matplotlib in jupyter notebook\n",
    "import matplotlib.pyplot as plt\n",
    "import numpy as np\n",
    "\n",
    "plt.subplot(221)\n",
    "plt.plot(x1, y1, 'r.', label=\"Dataset I\")\n",
    "plt.title(\"Dataset I\")\n",
    "plt.xlabel(\"X\")\n",
    "plt.ylabel(\"Y\")\n",
    "plt.xlim(0,20)\n",
    "plt.ylim(0,15)\n",
    "z1 = np.polyfit(x1, y1, 1)\n",
    "p1 = np.poly1d(z1)\n",
    "plt.plot(x1,p1(x1),\"b--\")\n",
    "\n",
    "plt.subplot(222)\n",
    "plt.plot(x2, y2, 'r.', label=\"Dataset II\")\n",
    "plt.title(\"Dataset II\")\n",
    "plt.xlabel(\"X\")\n",
    "plt.ylabel(\"Y\")\n",
    "plt.xlim(0,20)\n",
    "plt.ylim(0,15)\n",
    "z2 = np.polyfit(x2, y2, 1)\n",
    "p2 = np.poly1d(z2)\n",
    "plt.plot(x2,p2(x2),\"b--\")\n",
    "\n",
    "plt.subplot(223)\n",
    "plt.plot(x3, y3, 'r.', label=\"Dataset III\")\n",
    "plt.title(\"Dataset III\")\n",
    "plt.xlabel(\"X\")\n",
    "plt.ylabel(\"Y\")\n",
    "plt.xlim(0,20)\n",
    "plt.ylim(0,15)\n",
    "z3 = np.polyfit(x3, y3, 1)\n",
    "p3 = np.poly1d(z3)\n",
    "plt.plot(x3,p3(x3),\"b--\")\n",
    "\n",
    "plt.subplot(224)\n",
    "plt.plot(x4, y4, 'r.', label=\"Dataset IV\")\n",
    "plt.title(\"Dataset IV\")\n",
    "plt.xlabel(\"X\")\n",
    "plt.ylabel(\"Y\")\n",
    "plt.xlim(0,20) # Change the limits to custom limits of 0 to 20\n",
    "plt.ylim(0,15) # Change the limits to custom limits of 0 to 15\n",
    "z4 = np.polyfit(x4, y4, 1)\n",
    "p4 = np.poly1d(z4)\n",
    "plt.plot(x4,p4(x4),\"b--\") # Code for trendline adapted from https://stackoverflow.com/questions/41635448/how-can-i-draw-scatter-trend-line-on-matplot-python-pandas?noredirect=1&lq=1\n",
    "\n",
    "\n",
    "plt.subplots_adjust(left=0, bottom=0, right=2, top=2, wspace=0.25, hspace=0.25)\n",
    "\n",
    "plt.show()"
   ]
  },
  {
   "cell_type": "markdown",
   "metadata": {
    "collapsed": true
   },
   "source": [
    "### 3. Interesting aspects of the Anscombe Quartet Dataset\n"
   ]
  },
  {
   "cell_type": "code",
   "execution_count": null,
   "metadata": {
    "collapsed": true
   },
   "outputs": [],
   "source": []
  },
  {
   "cell_type": "markdown",
   "metadata": {},
   "source": [
    "Some links to the description of Anscombe's Quartet\n",
    "\n",
    "https://heapanalytics.com/blog/data-stories/anscombes-quartet-and-why-summary-statistics-dont-tell-the-whole-story\n"
   ]
  },
  {
   "cell_type": "markdown",
   "metadata": {},
   "source": [
    "### 7. References\n",
    "\n",
    "[1] https://en.wikipedia.org/wiki/Frank_Anscombe\n",
    "\n",
    "[2] https://heapanalytics.com/blog/data-stories/anscombes-quartet-and-why-summary-statistics-dont-tell-the-whole-story\n",
    "\n",
    "[3] https://stackoverflow.com/questions/32370281/how-to-include-image-or-picture-in-jupyter-notebook\n",
    "\n",
    "[4] https://www.google.ie/search?rlz=1C1CHBD_enIE782IE783&biw=1366&bih=657&tbm=isch&sa=1&ei=g_vIW4qhOumFgAbN_qe4Bg&q=anscombe+quartet+dataset&oq=anscombe+quartet+dataset&gs_l=img.3...1759.6564.0.7119.10.7.1.2.2.0.121.579.5j2.7.0....0...1c.1.64.img..0.5.276...0i30k1j0i10i24k1j0i24k1.0.-9k8fT7HjRw#imgrc=EsS8UuIeLSdgrM:\n",
    "\n",
    "[5] https://gist.github.com/Zsailer/5d1f4e357c78409dd9a5a4e5c61be552"
   ]
  },
  {
   "cell_type": "code",
   "execution_count": null,
   "metadata": {
    "collapsed": true
   },
   "outputs": [],
   "source": [
    "z = 2340\n",
    "n = 450\n",
    "y = 700\n",
    "i = 1\n",
    "\n",
    "x = ((n*2) + z)\n",
    "     \n",
    "while y < x:\n",
    "        x = (x + 450)\n",
    "        y = (y + 700)\n",
    "        i = i + 1\n",
    "print (i)\n",
    "print (x)\n",
    "print (y)"
   ]
  }
 ],
 "metadata": {
  "kernelspec": {
   "display_name": "Python 3",
   "language": "python",
   "name": "python3"
  },
  "language_info": {
   "codemirror_mode": {
    "name": "ipython",
    "version": 3
   },
   "file_extension": ".py",
   "mimetype": "text/x-python",
   "name": "python",
   "nbconvert_exporter": "python",
   "pygments_lexer": "ipython3",
   "version": "3.6.3"
  }
 },
 "nbformat": 4,
 "nbformat_minor": 2
}
